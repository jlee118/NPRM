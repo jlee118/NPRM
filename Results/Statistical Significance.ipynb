{
 "cells": [
  {
   "cell_type": "code",
   "execution_count": 1,
   "id": "ed34a9ac",
   "metadata": {},
   "outputs": [],
   "source": [
    "import pandas as pd\n",
    "import numpy as np\n",
    "from sklearn.metrics import ndcg_score\n",
    "from scipy.stats import spearmanr, kendalltau\n",
    "\n",
    "def rank_accuracy(ground_truth, predicted_rank):\n",
    "    return int(np.array_equal(ground_truth, predicted_rank))"
   ]
  },
  {
   "cell_type": "code",
   "execution_count": 22,
   "id": "76cbff09",
   "metadata": {},
   "outputs": [],
   "source": [
    "from scipy.stats import ttest_rel, wilcoxon\n",
    "def statistical_significance(data_name, model_names, dataset, metric_name, metric_fn):\n",
    "\n",
    "    arrays = dataset.groupby(['slug']).agg(list)\n",
    "    arrays.reset_index(inplace=True)\n",
    "    results = []\n",
    "    for m in model_names:\n",
    "        ground_truth = arrays[m]\n",
    "        feature_grade = ground_truth.apply(lambda x: sorted(x, reverse=True))\n",
    "        metrics = []\n",
    "        for i in range(len(arrays)):\n",
    "            curr_truth = np.asarray(ground_truth[i])\n",
    "            curr_feat_grade = np.asarray(feature_grade[i])\n",
    "            \n",
    "            if metric_name == 'ndcg':\n",
    "                if len(curr_truth) == 1:\n",
    "                    continue\n",
    "                curr_truth = np.asarray([curr_truth])\n",
    "                curr_feat_grade = np.asarray([curr_feat_grade])\n",
    "                metrics.append(metric_fn(curr_truth, curr_feat_grade))\n",
    "            else:\n",
    "                score = metric_fn(curr_truth, curr_feat_grade)\n",
    "                if isinstance(score, tuple):\n",
    "                    score = score[0]\n",
    "                metrics.append(score)\n",
    "        results.append((m, metrics))\n",
    "    print(data_name + ' + ' + metric_name)\n",
    "    for i in range(1, len(model_names)):\n",
    "        test = wilcoxon(results[0][1], results[i][1])\n",
    "        print(results[0][0] + ' vs. ' + results[i][0] + '- p-value:{} statistic:{}'.format(test[1], test[0]))\n",
    "    \n",
    "    \n",
    "    return results"
   ]
  },
  {
   "cell_type": "markdown",
   "id": "d079ccf4",
   "metadata": {},
   "source": [
    "### Table 5"
   ]
  },
  {
   "cell_type": "code",
   "execution_count": 23,
   "id": "f73d7912",
   "metadata": {},
   "outputs": [
    {
     "name": "stdout",
     "output_type": "stream",
     "text": [
      "os_eng + ndcg\n",
      "bertRank vs. bert_regression- p-value:0.7733168776432707 statistic:1763.0\n",
      "bertRank vs. bert_classification- p-value:0.013745972805509434 statistic:1084.0\n"
     ]
    },
    {
     "name": "stderr",
     "output_type": "stream",
     "text": [
      "C:\\Users\\jchle\\AppData\\Local\\Temp/ipykernel_4264/534845671.py:5: PerformanceWarning: DataFrame is highly fragmented.  This is usually the result of calling `frame.insert` many times, which has poor performance.  Consider using pd.concat instead.  To get a de-fragmented frame, use `newframe = frame.copy()`\n",
      "  arrays.reset_index(inplace=True)\n"
     ]
    }
   ],
   "source": [
    "model_names = ['bertRank', 'bert_regression', 'bert_classification']\n",
    "dataset = pd.read_csv('os_eng_rank_features.csv')\n",
    "results = statistical_significance('os_eng', model_names, dataset, 'ndcg', ndcg_score)"
   ]
  },
  {
   "cell_type": "markdown",
   "id": "78ec5eed",
   "metadata": {},
   "source": [
    "### Table 5"
   ]
  },
  {
   "cell_type": "code",
   "execution_count": 24,
   "id": "a147f802",
   "metadata": {},
   "outputs": [
    {
     "name": "stderr",
     "output_type": "stream",
     "text": [
      "C:\\Users\\jchle\\AppData\\Local\\Temp/ipykernel_4264/534845671.py:5: PerformanceWarning: DataFrame is highly fragmented.  This is usually the result of calling `frame.insert` many times, which has poor performance.  Consider using pd.concat instead.  To get a de-fragmented frame, use `newframe = frame.copy()`\n",
      "  arrays.reset_index(inplace=True)\n"
     ]
    },
    {
     "name": "stdout",
     "output_type": "stream",
     "text": [
      "os_eng + spearmanr\n",
      "bertRank vs. bert_regression- p-value:0.000967428450247743 statistic:19.0\n",
      "bertRank vs. bert_classification- p-value:3.962393646612975e-08 statistic:6.0\n"
     ]
    }
   ],
   "source": [
    "model_names = ['bertRank', 'bert_regression', 'bert_classification']\n",
    "dataset = pd.read_csv('os_eng_rank_features.csv')\n",
    "results = statistical_significance('os_eng', model_names, dataset, 'spearmanr', spearmanr)"
   ]
  },
  {
   "cell_type": "markdown",
   "id": "f874a47e",
   "metadata": {},
   "source": [
    "### Table 5"
   ]
  },
  {
   "cell_type": "code",
   "execution_count": 25,
   "id": "7cb3f7b6",
   "metadata": {},
   "outputs": [
    {
     "name": "stdout",
     "output_type": "stream",
     "text": [
      "os_eng + kendalltau\n",
      "bertRank vs. bert_regression- p-value:0.000967428450247743 statistic:19.0\n",
      "bertRank vs. bert_classification- p-value:4.1346984212997275e-08 statistic:12.0\n"
     ]
    },
    {
     "name": "stderr",
     "output_type": "stream",
     "text": [
      "C:\\Users\\jchle\\AppData\\Local\\Temp/ipykernel_4264/534845671.py:5: PerformanceWarning: DataFrame is highly fragmented.  This is usually the result of calling `frame.insert` many times, which has poor performance.  Consider using pd.concat instead.  To get a de-fragmented frame, use `newframe = frame.copy()`\n",
      "  arrays.reset_index(inplace=True)\n"
     ]
    }
   ],
   "source": [
    "model_names = ['bertRank', 'bert_regression', 'bert_classification']\n",
    "dataset = pd.read_csv('os_eng_rank_features.csv')\n",
    "results = statistical_significance('os_eng', model_names, dataset, 'kendalltau', kendalltau)"
   ]
  },
  {
   "cell_type": "markdown",
   "id": "ee5a83c1",
   "metadata": {},
   "source": [
    "### Table 5"
   ]
  },
  {
   "cell_type": "code",
   "execution_count": 26,
   "id": "3599f361",
   "metadata": {},
   "outputs": [
    {
     "name": "stdout",
     "output_type": "stream",
     "text": [
      "os_eng + RA\n",
      "bertRank vs. bert_regression- p-value:0.000967428450247743 statistic:19.0\n",
      "bertRank vs. bert_classification- p-value:9.491672398804045e-07 statistic:54.0\n"
     ]
    },
    {
     "name": "stderr",
     "output_type": "stream",
     "text": [
      "C:\\Users\\jchle\\AppData\\Local\\Temp/ipykernel_4264/534845671.py:5: PerformanceWarning: DataFrame is highly fragmented.  This is usually the result of calling `frame.insert` many times, which has poor performance.  Consider using pd.concat instead.  To get a de-fragmented frame, use `newframe = frame.copy()`\n",
      "  arrays.reset_index(inplace=True)\n"
     ]
    }
   ],
   "source": [
    "model_names = ['bertRank', 'bert_regression', 'bert_classification']\n",
    "dataset = pd.read_csv('os_eng_rank_features.csv')\n",
    "results = statistical_significance('os_eng', model_names, dataset, 'RA', rank_accuracy)"
   ]
  },
  {
   "cell_type": "markdown",
   "id": "307d0ca6",
   "metadata": {},
   "source": [
    "### Table 4"
   ]
  },
  {
   "cell_type": "code",
   "execution_count": 33,
   "id": "28be4085",
   "metadata": {},
   "outputs": [
    {
     "name": "stderr",
     "output_type": "stream",
     "text": [
      "C:\\Users\\jchle\\AppData\\Local\\Temp/ipykernel_4264/534845671.py:5: PerformanceWarning: DataFrame is highly fragmented.  This is usually the result of calling `frame.insert` many times, which has poor performance.  Consider using pd.concat instead.  To get a de-fragmented frame, use `newframe = frame.copy()`\n",
      "  arrays.reset_index(inplace=True)\n"
     ]
    },
    {
     "name": "stdout",
     "output_type": "stream",
     "text": [
      "os_eng + ndcg\n",
      "bertRank vs. word2vec-google-news-300_pairwiseSVM- p-value:0.00042382365472279907 statistic:444.0\n",
      "bertRank vs. fasttext-wiki-news-subwords-300_pairwiseSVM- p-value:0.03034672438851402 statistic:780.0\n",
      "bertRank vs. glove-wiki-gigaword-300_pairwiseSVM- p-value:1.7273419704794992e-05 statistic:333.0\n"
     ]
    }
   ],
   "source": [
    "model_names = ['bertRank', 'word2vec-google-news-300_pairwiseSVM', 'fasttext-wiki-news-subwords-300_pairwiseSVM','glove-wiki-gigaword-300_pairwiseSVM']\n",
    "dataset = pd.read_csv('os_eng_rank_features.csv')\n",
    "reuslts=statistical_significance('os_eng', model_names, dataset, 'ndcg', ndcg_score)"
   ]
  },
  {
   "cell_type": "code",
   "execution_count": 28,
   "id": "de770147",
   "metadata": {},
   "outputs": [
    {
     "name": "stderr",
     "output_type": "stream",
     "text": [
      "C:\\Users\\jchle\\AppData\\Local\\Temp/ipykernel_4264/534845671.py:5: PerformanceWarning: DataFrame is highly fragmented.  This is usually the result of calling `frame.insert` many times, which has poor performance.  Consider using pd.concat instead.  To get a de-fragmented frame, use `newframe = frame.copy()`\n",
      "  arrays.reset_index(inplace=True)\n"
     ]
    },
    {
     "name": "stdout",
     "output_type": "stream",
     "text": [
      "newsela_en + ndcg\n",
      "bertRank vs. word2vec-google-news-300_pairwiseSVM- p-value:1.1152287953113957e-109 statistic:52553.5\n",
      "bertRank vs. fasttext-wiki-news-subwords-300_pairwiseSVM- p-value:3.5104135844101953e-75 statistic:90392.5\n",
      "bertRank vs. glove-wiki-gigaword-300_pairwiseSVM- p-value:1.6933711304352312e-44 statistic:135890.0\n"
     ]
    }
   ],
   "source": [
    "model_names = ['bertRank', 'word2vec-google-news-300_pairwiseSVM', 'fasttext-wiki-news-subwords-300_pairwiseSVM','glove-wiki-gigaword-300_pairwiseSVM']\n",
    "dataset = pd.read_csv('newsela_en_rank_features.csv')\n",
    "reuslts=statistical_significance('newsela_en', model_names, dataset, 'ndcg', ndcg_score)"
   ]
  },
  {
   "cell_type": "markdown",
   "id": "65874cdf",
   "metadata": {},
   "source": [
    "### Table 4"
   ]
  },
  {
   "cell_type": "code",
   "execution_count": 32,
   "id": "f2ae3224",
   "metadata": {},
   "outputs": [
    {
     "name": "stderr",
     "output_type": "stream",
     "text": [
      "C:\\Users\\jchle\\AppData\\Local\\Temp/ipykernel_4264/534845671.py:5: PerformanceWarning: DataFrame is highly fragmented.  This is usually the result of calling `frame.insert` many times, which has poor performance.  Consider using pd.concat instead.  To get a de-fragmented frame, use `newframe = frame.copy()`\n",
      "  arrays.reset_index(inplace=True)\n"
     ]
    },
    {
     "name": "stdout",
     "output_type": "stream",
     "text": [
      "os_eng + spearmanr\n",
      "bertRank vs. word2vec-google-news-300_pairwiseSVM- p-value:0.0832645166635504 statistic:9.0\n",
      "bertRank vs. fasttext-wiki-news-subwords-300_pairwiseSVM- p-value:0.007466740134387747 statistic:13.0\n",
      "bertRank vs. glove-wiki-gigaword-300_pairwiseSVM- p-value:0.2059032107320684 statistic:7.0\n"
     ]
    }
   ],
   "source": [
    "model_names = ['bertRank', 'word2vec-google-news-300_pairwiseSVM', 'fasttext-wiki-news-subwords-300_pairwiseSVM','glove-wiki-gigaword-300_pairwiseSVM']\n",
    "dataset = pd.read_csv('os_eng_rank_features.csv')\n",
    "reuslts=statistical_significance('os_eng', model_names, dataset, 'spearmanr', spearmanr)"
   ]
  },
  {
   "cell_type": "markdown",
   "id": "d050f533",
   "metadata": {},
   "source": [
    "### Table 4"
   ]
  },
  {
   "cell_type": "code",
   "execution_count": 30,
   "id": "aadeba35",
   "metadata": {},
   "outputs": [
    {
     "name": "stdout",
     "output_type": "stream",
     "text": [
      "os_eng + kendalltau\n",
      "bertRank vs. word2vec-google-news-300_pairwiseSVM- p-value:0.0832645166635504 statistic:9.0\n",
      "bertRank vs. fasttext-wiki-news-subwords-300_pairwiseSVM- p-value:0.007466740134387747 statistic:13.0\n",
      "bertRank vs. glove-wiki-gigaword-300_pairwiseSVM- p-value:0.2059032107320684 statistic:7.0\n"
     ]
    },
    {
     "name": "stderr",
     "output_type": "stream",
     "text": [
      "C:\\Users\\jchle\\AppData\\Local\\Temp/ipykernel_4264/534845671.py:5: PerformanceWarning: DataFrame is highly fragmented.  This is usually the result of calling `frame.insert` many times, which has poor performance.  Consider using pd.concat instead.  To get a de-fragmented frame, use `newframe = frame.copy()`\n",
      "  arrays.reset_index(inplace=True)\n"
     ]
    }
   ],
   "source": [
    "model_names = ['bertRank', 'word2vec-google-news-300_pairwiseSVM', 'fasttext-wiki-news-subwords-300_pairwiseSVM','glove-wiki-gigaword-300_pairwiseSVM']\n",
    "dataset = pd.read_csv('os_eng_rank_features.csv')\n",
    "reuslts=statistical_significance('os_eng', model_names, dataset, 'kendalltau', kendalltau)"
   ]
  },
  {
   "cell_type": "markdown",
   "id": "d2015d84",
   "metadata": {},
   "source": [
    "### Table 4"
   ]
  },
  {
   "cell_type": "code",
   "execution_count": 31,
   "id": "bbf4985d",
   "metadata": {},
   "outputs": [
    {
     "name": "stdout",
     "output_type": "stream",
     "text": [
      "os_eng + RA\n",
      "bertRank vs. word2vec-google-news-300_pairwiseSVM- p-value:0.15729920705028502 statistic:9.0\n",
      "bertRank vs. fasttext-wiki-news-subwords-300_pairwiseSVM- p-value:0.012554918596966547 statistic:14.0\n",
      "bertRank vs. glove-wiki-gigaword-300_pairwiseSVM- p-value:0.4142161782425253 statistic:7.0\n"
     ]
    },
    {
     "name": "stderr",
     "output_type": "stream",
     "text": [
      "C:\\Users\\jchle\\AppData\\Local\\Temp/ipykernel_4264/534845671.py:5: PerformanceWarning: DataFrame is highly fragmented.  This is usually the result of calling `frame.insert` many times, which has poor performance.  Consider using pd.concat instead.  To get a de-fragmented frame, use `newframe = frame.copy()`\n",
      "  arrays.reset_index(inplace=True)\n"
     ]
    }
   ],
   "source": [
    "model_names = ['bertRank', 'word2vec-google-news-300_pairwiseSVM', 'fasttext-wiki-news-subwords-300_pairwiseSVM','glove-wiki-gigaword-300_pairwiseSVM']\n",
    "dataset = pd.read_csv('os_eng_rank_features.csv')\n",
    "reuslts=statistical_significance('os_eng', model_names, dataset, 'RA', rank_accuracy)"
   ]
  },
  {
   "cell_type": "code",
   "execution_count": null,
   "id": "ccb16b12",
   "metadata": {},
   "outputs": [],
   "source": []
  }
 ],
 "metadata": {
  "kernelspec": {
   "display_name": "windows_venv",
   "language": "python",
   "name": "windows_venv"
  },
  "language_info": {
   "codemirror_mode": {
    "name": "ipython",
    "version": 3
   },
   "file_extension": ".py",
   "mimetype": "text/x-python",
   "name": "python",
   "nbconvert_exporter": "python",
   "pygments_lexer": "ipython3",
   "version": "3.9.5"
  }
 },
 "nbformat": 4,
 "nbformat_minor": 5
}
